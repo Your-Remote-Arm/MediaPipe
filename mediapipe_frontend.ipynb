{
    "cells": [
     {
      "cell_type": "code",
      "execution_count": 1,
      "id": "a1e6d007",
      "metadata": {},
      "outputs": [],
      "source": [
       "import time\n",
       "import requests\n",
       "import pybullet as p\n",
       "import pybullet_data\n",
       "import mediapipe as mp"
      ]
     },
     {
      "cell_type": "code",
      "execution_count": 2,
      "id": "befde8fc",
      "metadata": {},
      "outputs": [],
      "source": [
       "SERVER_URL  = \"http://localhost:3000/landmarks\"\n",
       "PLANE_SIZE  = 5.0      # meters\n",
       "DEPTH_SCALE = 0.5      # scale factor for normalized z\n",
       "FPS         = 240.0\n",
       "\n",
       "mp_hands = mp.solutions.hands"
      ]
     },
     {
      "cell_type": "code",
      "execution_count": 3,
      "id": "90129cba",
      "metadata": {},
      "outputs": [],
      "source": [
       "def create_spheres(n):\n",
       "    vis = p.createVisualShape(p.GEOM_SPHERE, radius=0.02, rgbaColor=[1,0,0,1])\n",
       "    return [p.createMultiBody(baseMass=0, baseVisualShapeIndex=vis, basePosition=[0,0,0])\n",
       "            for _ in range(n)]"
      ]
     },
     {
      "cell_type": "code",
      "execution_count": 4,
      "id": "0e273be9",
      "metadata": {},
      "outputs": [],
      "source": [
       "def map_to_plane(x, y, z):\n",
       "    # Center (0.5,0.5) → (0,0), flip Y so image-up→world +Y\n",
       "    wx = (x - 0.5) * PLANE_SIZE\n",
       "    wy = (0.5 - y) * PLANE_SIZE\n",
       "    wz = -z * DEPTH_SCALE\n",
       "    return [wx, wy, wz] "
      ]
     },
     {
      "cell_type": "code",
      "execution_count": 6,
      "id": "f633f12a",
      "metadata": {},
      "outputs": [
       {
        "ename": "error",
        "evalue": "Not connected to physics server.",
        "output_type": "error",
        "traceback": [
         "\u001b[31m---------------------------------------------------------------------------\u001b[39m",
         "\u001b[31merror\u001b[39m                                     Traceback (most recent call last)",
         "\u001b[36mCell\u001b[39m\u001b[36m \u001b[39m\u001b[32mIn[6]\u001b[39m\u001b[32m, line 49\u001b[39m\n\u001b[32m     48\u001b[39m \u001b[38;5;66;03m# 4) step sim & throttle\u001b[39;00m\n\u001b[32m---> \u001b[39m\u001b[32m49\u001b[39m \u001b[43mp\u001b[49m\u001b[43m.\u001b[49m\u001b[43mstepSimulation\u001b[49m\u001b[43m(\u001b[49m\u001b[43m)\u001b[49m\n\u001b[32m     50\u001b[39m time.sleep(\u001b[32m1.0\u001b[39m/FPS)\n",
         "\u001b[31merror\u001b[39m: Not connected to physics server.",
         "\nDuring handling of the above exception, another exception occurred:\n",
         "\u001b[31merror\u001b[39m                                     Traceback (most recent call last)",
         "\u001b[36mCell\u001b[39m\u001b[36m \u001b[39m\u001b[32mIn[6]\u001b[39m\u001b[32m, line 55\u001b[39m\n\u001b[32m     53\u001b[39m     \u001b[38;5;28;01mpass\u001b[39;00m\n\u001b[32m     54\u001b[39m \u001b[38;5;28;01mfinally\u001b[39;00m:\n\u001b[32m---> \u001b[39m\u001b[32m55\u001b[39m     \u001b[43mp\u001b[49m\u001b[43m.\u001b[49m\u001b[43mdisconnect\u001b[49m\u001b[43m(\u001b[49m\u001b[43m)\u001b[49m\n",
         "\u001b[31merror\u001b[39m: Not connected to physics server."
        ]
       }
      ],
      "source": [
       "p.connect(p.GUI)\n",
       "p.setAdditionalSearchPath(pybullet_data.getDataPath())\n",
       "p.resetSimulation()\n",
       "p.setGravity(0, 0, -9.81)\n",
       "p.setTimeStep(1.0/FPS)\n",
       "\n",
       "# finite 5×5 plane\n",
       "p.loadURDF(\n",
       "    \"plane100.urdf\",\n",
       "    basePosition=[0,0,0],\n",
       "    useFixedBase=True,\n",
       "    globalScaling=PLANE_SIZE/100.0\n",
       ")\n",
       "\n",
       "# spawn spheres\n",
       "num_points = len(mp_hands.HandLandmark)\n",
       "spheres = create_spheres(num_points)\n",
       "\n",
       "try:\n",
       "    while True:\n",
       "        # 1) fetch latest landmarks\n",
       "        try:\n",
       "            data = requests.get(SERVER_URL, timeout=0.01).json()\n",
       "        except requests.exceptions.RequestException:\n",
       "            data = {}\n",
       "\n",
       "        # 2) update each sphere and collect positions\n",
       "        world_positions = [None]*num_points\n",
       "        for name, vals in data.items():\n",
       "            idx = mp_hands.HandLandmark[name].value\n",
       "            x, y, z, _ = vals\n",
       "            pos = map_to_plane(x, y, z)\n",
       "            world_positions[idx] = pos\n",
       "            p.resetBasePositionAndOrientation(spheres[idx], pos, [0,0,0,1])\n",
       "\n",
       "        # 3) draw connections\n",
       "        for start_idx, end_idx in mp_hands.HAND_CONNECTIONS:\n",
       "            start = world_positions[start_idx]\n",
       "            end   = world_positions[end_idx]\n",
       "            if start and end:\n",
       "                p.addUserDebugLine(\n",
       "                    start, end,\n",
       "                    lineColorRGB=[0,1,0],\n",
       "                    lineWidth=2,\n",
       "                    lifeTime=1.0/FPS\n",
       "                )\n",
       "\n",
       "        # 4) step sim & throttle\n",
       "        p.stepSimulation()\n",
       "        time.sleep(1.0/FPS)\n",
       "\n",
       "except KeyboardInterrupt:\n",
       "    pass\n",
       "finally:\n",
       "    p.disconnect()"
      ]
     }
    ],
    "metadata": {
     "kernelspec": {
      "display_name": "mp",
      "language": "python",
      "name": "python3"
     },
     "language_info": {
      "codemirror_mode": {
       "name": "ipython",
       "version": 3
      },
      "file_extension": ".py",
      "mimetype": "text/x-python",
      "name": "python",
      "nbconvert_exporter": "python",
      "pygments_lexer": "ipython3",
      "version": "3.12.8"
     }
    },
    "nbformat": 4,
    "nbformat_minor": 5
   }
   